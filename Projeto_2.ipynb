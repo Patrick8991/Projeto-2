{
 "cells": [
  {
   "cell_type": "markdown",
   "metadata": {},
   "source": [
    "# Projeto 2\n",
    "### Análise de Teste tipo A/B"
   ]
  },
  {
   "cell_type": "markdown",
   "metadata": {},
   "source": [
    "___\n",
    "#### <font color='red'>Gabriel Moreira, Leonardo Lamounier Grotti, Patrick Serrano Wiegerinck e Rodrigo Cavalieri Lino</font>"
   ]
  },
  {
   "cell_type": "markdown",
   "metadata": {},
   "source": [
    "## Introdução"
   ]
  },
  {
   "cell_type": "markdown",
   "metadata": {},
   "source": [
    "### Teste A/B\n",
    "O projeto em questão tem como objetivo aplicar velhos e novos conceitos de estatística em um exercício de otimização de site. A conclusão do projeto resultará no aperfeiçoamento e agilização da navegação dentro do site utilizado como base de trabalho. Uma técnica muito utilizada por grandes empresas como Google e Amazon nessa tarefa é conhecido como Teste A/B, em que são criada duas versões distintas de uma mesma página da web, por exemplo, em que apenas alguns detalhes são modificados, permitindo um estudo mais preciso do tempo de navegação pelo site.\n",
    "### Formas de realizar o Teste A/B\n",
    "O teste pode ser feito em relação a vários detalhes do layout de um site, algumas dessas características são:\n",
    "\n",
    "- Headlines de sites\n",
    "- Call-to-action (botões para conversões)\n",
    "- Imagens ou vídeos\n",
    "- Tamanho e campos de formulário\n",
    "\n",
    "### Teste A/B no projeto 2\n",
    "Com o auxílio de ferramentas de programação do Python será reliazado um Teste A/B, porém numa escala muito menor do que as feitas por grandes empresas, em relação a um site gerado pelos alunos da engenharia do Insper no curso de Co-Design de Aplicativos. Com o fim do estudo sobre o Teste A/B, espera-se ser capaz de gerar uma conclusão em relação as duas versões do site, identificando qual delas representada uma maior otimização da navegação pelo site. O detalhe escolhido para ser avaliado ao longo do Teste A/B foi o botão de navegação para a páginal do perfil do aluno, ou seja, o ícone que, ao ser clicado, direciona o usuário do site ao perfil do aluno, onde se encontram as informações pessoais, em outras palavras será analisado a característica apresentada como Call-to-action.\n",
    "\n",
    "Para realizar a análise desse teste foram obtidos dados do tempo de início do teste, no momento em que usuário é direcionado a uma das versões do site, e do fim do teste, quando o usuário alcança o objetivo, ou seja, clicou no botão do perfil do aluno. Com esses dados, foram calculados o período de tempo, delta tempo, que cada usuário demorou para concluir sua navegação em ambas as versões. Esses intervalos de tempo geraram duas listas de tempo, que representam variáveis aleatórias e independentes."
   ]
  },
  {
   "cell_type": "markdown",
   "metadata": {},
   "source": [
    "#### Teste A\n",
    "O teste A representa a versão original do site, sem nenhuma alteração.\n",
    "#### Teste B\n",
    "O teste B representa a versão modificada do site, em que o botão para conversão que leva o usuário à página do perfil do aluno foi circulado por uma corda branca.\n",
    "#### Teste A/B\n",
    "O resultado esperado é de que a versão B tenha uma reação mais rápida por parte dos usuários. Essa foi a hipótese inicial, uma vez que imagina-se que a corda branca ao redor do botão torne o ícone mais evidente e, portanto, de mais rápida navegação."
   ]
  },
  {
   "cell_type": "markdown",
   "metadata": {},
   "source": [
    "___\n",
    "## Análise Descritiva"
   ]
  },
  {
   "cell_type": "markdown",
   "metadata": {},
   "source": [
    "Importando as ferramentas para a análise dos dados:"
   ]
  },
  {
   "cell_type": "code",
   "execution_count": 1,
   "metadata": {
    "collapsed": true
   },
   "outputs": [],
   "source": [
    "import pandas as pd\n",
    "import json\n",
    "import itertools\n",
    "import matplotlib.pyplot as plt\n",
    "import numpy as np\n",
    "%matplotlib inline"
   ]
  },
  {
   "cell_type": "markdown",
   "metadata": {},
   "source": [
    "Exportando o arquivo json do Firebase:"
   ]
  },
  {
   "cell_type": "code",
   "execution_count": 2,
   "metadata": {
    "collapsed": true
   },
   "outputs": [],
   "source": [
    "arquivo = open(\"testef-export.json\")\n",
    "linhas = arquivo.readlines()\n",
    "texto = \"\".join(linhas)\n",
    "dados_fire = json.loads(texto)"
   ]
  },
  {
   "cell_type": "markdown",
   "metadata": {},
   "source": [
    "Análise do atributo logs:"
   ]
  },
  {
   "cell_type": "code",
   "execution_count": 3,
   "metadata": {
    "collapsed": true
   },
   "outputs": [],
   "source": [
    "for k,v in dados_fire[\"logs\"].items():\n",
    "    for chave, valor in v.items():\n",
    "        pass"
   ]
  },
  {
   "cell_type": "markdown",
   "metadata": {},
   "source": [
    "Convertendo os dados obtidos do Firebase em um dataframe:"
   ]
  },
  {
   "cell_type": "code",
   "execution_count": 4,
   "metadata": {
    "collapsed": true
   },
   "outputs": [],
   "source": [
    "lista_dicionarios = []\n",
    "\n",
    "for k,v in dados_fire[\"logs\"].items():\n",
    "    lista_dicionarios.append(v)"
   ]
  },
  {
   "cell_type": "markdown",
   "metadata": {},
   "source": [
    "Convertendo a lista de dicionários em um dataframe:"
   ]
  },
  {
   "cell_type": "code",
   "execution_count": 5,
   "metadata": {
    "collapsed": true
   },
   "outputs": [],
   "source": [
    "dataframe = pd.DataFrame.from_records(lista_dicionarios)"
   ]
  },
  {
   "cell_type": "markdown",
   "metadata": {},
   "source": [
    "Criando um dataframe dos intervalos de tempo (delta T):"
   ]
  },
  {
   "cell_type": "code",
   "execution_count": 6,
   "metadata": {
    "collapsed": true
   },
   "outputs": [],
   "source": [
    "agrupado = dataframe.groupby(by=[\"user_id\", \"versao\"])\n",
    "users = set(dataframe.user_id)\n",
    "users = list(users)"
   ]
  },
  {
   "cell_type": "markdown",
   "metadata": {},
   "source": [
    "Separando os grupos de usuários de cada versão do Teste A/B:"
   ]
  },
  {
   "cell_type": "code",
   "execution_count": 7,
   "metadata": {
    "collapsed": true
   },
   "outputs": [],
   "source": [
    "resultados = []\n",
    "\n",
    "for u in users:\n",
    "    for versao in [\"A\", \"B\"]:\n",
    "        if (u, versao) in agrupado.groups.keys(): # Check if a specific pair user/type of test happened\n",
    "            grupo =  agrupado.get_group((u, versao))\n",
    "            grupo = grupo.sort_values(by=\"tempo\") # Para evitar que inícios sem fim gerem tempos negativos\n",
    "            \n",
    "            if len(grupo[grupo.tipo==\"final\"])>= 1 and len(grupo[grupo.tipo==\"inicio\"]) >= 1:\n",
    "                delta_t = grupo[grupo.tipo==\"final\"].iloc[-1].tempo - grupo[grupo.tipo==\"inicio\"].iloc[0].tempo\n",
    "                resultados.append({\"user_id\":u, \"delta_t\":delta_t, \"versao\":versao})"
   ]
  },
  {
   "cell_type": "code",
   "execution_count": 8,
   "metadata": {
    "collapsed": true
   },
   "outputs": [],
   "source": [
    "dataframe_resumo = pd.DataFrame.from_records(resultados)"
   ]
  },
  {
   "cell_type": "markdown",
   "metadata": {},
   "source": [
    "Transformando o tempo em segundos:"
   ]
  },
  {
   "cell_type": "code",
   "execution_count": 9,
   "metadata": {
    "collapsed": true
   },
   "outputs": [],
   "source": [
    "dataframe_resumo.delta_t/=1000"
   ]
  },
  {
   "cell_type": "markdown",
   "metadata": {},
   "source": [
    "Histogramas"
   ]
  },
  {
   "cell_type": "code",
   "execution_count": 10,
   "metadata": {
    "collapsed": true
   },
   "outputs": [],
   "source": [
    "faixa = np.arange(0,200,5)"
   ]
  },
  {
   "cell_type": "code",
   "execution_count": 11,
   "metadata": {
    "collapsed": false
   },
   "outputs": [
    {
     "data": {
      "text/plain": [
       "(array([  7.,  16.,  15.,   1.,   2.,   0.,   1.,   1.,   1.,   0.,   0.,\n",
       "          0.,   0.,   0.,   0.,   0.,   0.,   0.,   0.,   0.,   0.,   0.,\n",
       "          0.,   0.,   0.,   0.,   0.,   0.,   0.,   0.,   0.,   0.,   0.,\n",
       "          0.,   0.,   0.,   0.,   0.,   0.]),\n",
       " array([  0,   5,  10,  15,  20,  25,  30,  35,  40,  45,  50,  55,  60,\n",
       "         65,  70,  75,  80,  85,  90,  95, 100, 105, 110, 115, 120, 125,\n",
       "        130, 135, 140, 145, 150, 155, 160, 165, 170, 175, 180, 185, 190, 195]),\n",
       " <a list of 39 Patch objects>)"
      ]
     },
     "execution_count": 11,
     "metadata": {},
     "output_type": "execute_result"
    },
    {
     "data": {
      "image/png": "[encoded data removed]",
      "text/plain": [
       "<matplotlib.figure.Figure at 0x1f87b890c50>"
      ]
     },
     "metadata": {},
     "output_type": "display_data"
    }
   ],
   "source": [
    "tempos_A = list(dataframe_resumo[dataframe_resumo.versao==\"A\"].delta_t)\n",
    "tempos_B = list(dataframe_resumo[dataframe_resumo.versao==\"B\"].delta_t)\n",
    "plt.hist(tempos_A, bins=faixa)\n",
    "plt.hist(tempos_B, bins=faixa, alpha=0.5)"
   ]
  },
  {
   "cell_type": "markdown",
   "metadata": {},
   "source": [
    "____"
   ]
  },
  {
   "cell_type": "markdown",
   "metadata": {},
   "source": [
    "#### Primeira Etapa"
   ]
  },
  {
   "cell_type": "markdown",
   "metadata": {},
   "source": [
    "Nessa fase será analisado se com a mudança no layout da página B a navegação se tornou mais rápida. Para verificar se essa afirmação é verdadeira ou falsa, foram criadas as seguintes hipóteses:\n",
    "\n",
    "H0 (hipótese nula) -> E(B) - E(A) >= 0\n",
    "\n",
    "Ha (hipótese alternativa) -> E(B) - E(A) < 0\n",
    "\n",
    "Sendo que E(B) é igual a média dos intervalos de tempo de navegação na versão \"B\", assim como E(a) é igual a média dos intervalos de tempo de navegação na versão \"A\".\n",
    "\n",
    "Por não conhecermos a varância populacional, será utilizado a Distribuição t-Student na análise do problema. Nesse caso, utilizaremos nível de significância de 5%."
   ]
  },
  {
   "cell_type": "markdown",
   "metadata": {},
   "source": [
    "#### Segunda Etapa"
   ]
  },
  {
   "cell_type": "markdown",
   "metadata": {},
   "source": [
    "Cálculo da média:\n",
    "\n",
    "E(Xb - Xa) = E(Xb) - E(Xa), que de acordo com a hipótese nula é maior ou igual a 0.\n",
    "\n",
    "Como não temos o desvio padrão populacional devemos estimá-los, para as duas versões do site."
   ]
  },
  {
   "cell_type": "markdown",
   "metadata": {},
   "source": [
    "___\n",
    "### Teste A"
   ]
  },
  {
   "cell_type": "markdown",
   "metadata": {},
   "source": [
    "Definindo a lista de tempo da versão A:"
   ]
  },
  {
   "cell_type": "code",
   "execution_count": 43,
   "metadata": {
    "collapsed": true
   },
   "outputs": [],
   "source": [
    "tA = []\n",
    "\n",
    "for i in range(len(tempos_A)):\n",
    "    if tempos_A[i] <= 200:\n",
    "        tA.append(tempos_A[i])"
   ]
  },
  {
   "cell_type": "markdown",
   "metadata": {},
   "source": [
    "Cálculo da Média Amostral:"
   ]
  },
  {
   "cell_type": "code",
   "execution_count": 44,
   "metadata": {
    "collapsed": false
   },
   "outputs": [
    {
     "name": "stdout",
     "output_type": "stream",
     "text": [
      "A média amostral do tempo de navegação da versão A é: 37.008160000000004\n"
     ]
    }
   ],
   "source": [
    "Tota = 0\n",
    "a = 0\n",
    "\n",
    "for i in tA:\n",
    "    a += 1\n",
    "    Tota += i\n",
    "\n",
    "media_A = Tota/a\n",
    "print(\"A média amostral do tempo de navegação da versão A é: {0}\".format(media_A))"
   ]
  },
  {
   "cell_type": "markdown",
   "metadata": {},
   "source": [
    "Cálculo da variância:"
   ]
  },
  {
   "cell_type": "code",
   "execution_count": 45,
   "metadata": {
    "collapsed": false
   },
   "outputs": [
    {
     "name": "stdout",
     "output_type": "stream",
     "text": [
      "A variância do tempo de navegação da versão A é: 1341.6444177343997\n"
     ]
    }
   ],
   "source": [
    "VarA = np.var(tA)\n",
    "print(\"A variância do tempo de navegação da versão A é: {0}\".format(VarA))"
   ]
  },
  {
   "cell_type": "markdown",
   "metadata": {},
   "source": [
    "Cálculo do desvio padrão:"
   ]
  },
  {
   "cell_type": "code",
   "execution_count": 46,
   "metadata": {
    "collapsed": false
   },
   "outputs": [
    {
     "name": "stdout",
     "output_type": "stream",
     "text": [
      "O desvio padrão do tempo de navegação da versão A é: 36.628464583359204\n"
     ]
    }
   ],
   "source": [
    "dpA = VarA**0.5\n",
    "print(\"O desvio padrão do tempo de navegação da versão A é: {0}\".format(dpA))"
   ]
  },
  {
   "cell_type": "markdown",
   "metadata": {},
   "source": [
    "___\n",
    "### Teste B"
   ]
  },
  {
   "cell_type": "markdown",
   "metadata": {},
   "source": [
    "Definindo a lista de tempo para a versão B:"
   ]
  },
  {
   "cell_type": "code",
   "execution_count": 47,
   "metadata": {
    "collapsed": true
   },
   "outputs": [],
   "source": [
    "tB = []\n",
    "\n",
    "for i in range(len(tempos_B)):\n",
    "    if tempos_B[i] <= 200:\n",
    "        tB.append(tempos_B[i])"
   ]
  },
  {
   "cell_type": "markdown",
   "metadata": {},
   "source": [
    "Cálculo da Média Amostral:"
   ]
  },
  {
   "cell_type": "code",
   "execution_count": 48,
   "metadata": {
    "collapsed": false
   },
   "outputs": [
    {
     "name": "stdout",
     "output_type": "stream",
     "text": [
      "A média amostral do tempo de navegação da versão B é: 11.052045454545455\n"
     ]
    }
   ],
   "source": [
    "Totb = 0\n",
    "b = 0\n",
    "\n",
    "for i in tB:\n",
    "    b += 1\n",
    "    Totb += i\n",
    "\n",
    "media_B = Totb/b\n",
    "print(\"A média amostral do tempo de navegação da versão B é: {0}\".format(media_B))"
   ]
  },
  {
   "cell_type": "markdown",
   "metadata": {},
   "source": [
    "Cálculo da variância:"
   ]
  },
  {
   "cell_type": "code",
   "execution_count": 49,
   "metadata": {
    "collapsed": false
   },
   "outputs": [
    {
     "name": "stdout",
     "output_type": "stream",
     "text": [
      "A variância do tempo de navegação da versão B é: 73.08351472520661\n"
     ]
    }
   ],
   "source": [
    "VarB = np.var(tB)\n",
    "print(\"A variância do tempo de navegação da versão B é: {0}\".format(VarB))"
   ]
  },
  {
   "cell_type": "markdown",
   "metadata": {},
   "source": [
    "Cálculo do desvio padrão:"
   ]
  },
  {
   "cell_type": "code",
   "execution_count": 50,
   "metadata": {
    "collapsed": false
   },
   "outputs": [
    {
     "name": "stdout",
     "output_type": "stream",
     "text": [
      "O desvio padrão do tempo de navegação da versão B é: 8.54888967791763\n"
     ]
    }
   ],
   "source": [
    "dpB = VarB**0.5\n",
    "print(\"O desvio padrão do tempo de navegação da versão B é: {0}\".format(dpB))"
   ]
  },
  {
   "cell_type": "markdown",
   "metadata": {},
   "source": [
    "___"
   ]
  },
  {
   "cell_type": "code",
   "execution_count": 62,
   "metadata": {
    "collapsed": false
   },
   "outputs": [
    {
     "name": "stdout",
     "output_type": "stream",
     "text": [
      "527.49339043\n"
     ]
    }
   ],
   "source": [
    "# variância geral\n",
    "\n",
    "Vg = ((a-1)*VarA+(b-1)*VarB)/(a+b-2)\n",
    "print(Vg)"
   ]
  },
  {
   "cell_type": "code",
   "execution_count": 63,
   "metadata": {
    "collapsed": false
   },
   "outputs": [
    {
     "name": "stdout",
     "output_type": "stream",
     "text": [
      "67\n"
     ]
    }
   ],
   "source": [
    "# grau de liberdade\n",
    "gl = (a+b-2)\n",
    "print(gl)"
   ]
  },
  {
   "cell_type": "markdown",
   "metadata": {},
   "source": [
    "#### Quarta Etapa"
   ]
  },
  {
   "cell_type": "markdown",
   "metadata": {},
   "source": [
    "t crítico = 2.000\n",
    "\n",
    "Usando alfa igual a 5% e arredondando o grau de liberdade para 60, uma vez que não havia número mais próximo na tabela."
   ]
  },
  {
   "cell_type": "code",
   "execution_count": 64,
   "metadata": {
    "collapsed": false
   },
   "outputs": [
    {
     "name": "stdout",
     "output_type": "stream",
     "text": [
      "-9.38762464223\n"
     ]
    }
   ],
   "source": [
    "# tobs\n",
    "\n",
    "tobs = ((media_B - media_A)-0)/(((Vg)**0.5)/(a+b)**0.5)\n",
    "print(tobs)"
   ]
  },
  {
   "cell_type": "markdown",
   "metadata": {},
   "source": [
    "Dado que o tobs pertence à região crítica, portanto tobs < -tc, podemos rejeitar a hipótese nula (H0)."
   ]
  },
  {
   "cell_type": "markdown",
   "metadata": {},
   "source": [
    "#### Quinta Etapa"
   ]
  },
  {
   "cell_type": "markdown",
   "metadata": {},
   "source": [
    "Calcula-se o valor-p para saber quais valores de alfa não rejeitam a hipótese nula, lembrando, de acordo com a literatura, o valor máximo de alfa é igual a 10%. Olhando na tabela, para um valor de tobs aproximado, percebe-se que não existe um valor alfa que deixe de negar H0."
   ]
  },
  {
   "cell_type": "markdown",
   "metadata": {},
   "source": [
    "___\n",
    "## Conclusão"
   ]
  },
  {
   "cell_type": "markdown",
   "metadata": {},
   "source": [
    "Com isso concluimos que a mudança feita no layout da página otimizou a navegação do usuário."
   ]
  }
 ],
 "metadata": {
  "kernelspec": {
   "display_name": "Python 3",
   "language": "python",
   "name": "python3"
  },
  "language_info": {
   "codemirror_mode": {
    "name": "ipython",
    "version": 3
   },
   "file_extension": ".py",
   "mimetype": "text/x-python",
   "name": "python",
   "nbconvert_exporter": "python",
   "pygments_lexer": "ipython3",
   "version": "3.5.2"
  }
 },
 "nbformat": 4,
 "nbformat_minor": 0
}
